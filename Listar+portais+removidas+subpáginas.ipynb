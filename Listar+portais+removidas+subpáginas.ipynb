{
 "cells": [
  {
   "cell_type": "code",
   "execution_count": 1,
   "metadata": {
    "collapsed": true
   },
   "outputs": [],
   "source": [
    "import pywikibot\n",
    "from pywikibot import pagegenerators\n",
    "\n",
    "site = pywikibot.Site()"
   ]
  },
  {
   "cell_type": "code",
   "execution_count": 27,
   "metadata": {
    "collapsed": false
   },
   "outputs": [],
   "source": [
    "portais_com_subpaginas = pagegenerators.AllpagesPageGenerator(namespace='Portal')"
   ]
  },
  {
   "cell_type": "code",
   "execution_count": 28,
   "metadata": {
    "collapsed": false
   },
   "outputs": [],
   "source": [
    "list_text = ''\n",
    "for page in pagegenerators.SubpageFilterGenerator(portais_com_subpaginas):\n",
    "    list_text += '* ' + page.title(asLink=True) + '\\n'"
   ]
  },
  {
   "cell_type": "code",
   "execution_count": 29,
   "metadata": {
    "collapsed": false
   },
   "outputs": [
    {
     "name": "stderr",
     "output_type": "stream",
     "text": [
      "Page [[Wikipédia:Projetos/Portais/Lista de portais]] saved\n"
     ]
    }
   ],
   "source": [
    "page = pywikibot.Page(site,'Wikipédia:Projetos/Portais/Lista de portais')\n",
    "page.text = list_text\n",
    "page.save('Lista de páginas no domínio Portal, removidas as subpáginas')"
   ]
  }
 ],
 "metadata": {
  "kernelspec": {
   "display_name": "Python 3",
   "language": "python",
   "name": "python3"
  },
  "language_info": {
   "codemirror_mode": {
    "name": "ipython",
    "version": 3
   },
   "file_extension": ".py",
   "mimetype": "text/x-python",
   "name": "python",
   "nbconvert_exporter": "python",
   "pygments_lexer": "ipython3",
   "version": "3.4.2"
  }
 },
 "nbformat": 4,
 "nbformat_minor": 2
}
